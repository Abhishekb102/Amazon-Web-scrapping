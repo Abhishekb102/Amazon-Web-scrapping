{
 "cells": [
  {
   "cell_type": "code",
   "execution_count": 4,
   "metadata": {},
   "outputs": [
    {
     "name": "stderr",
     "output_type": "stream",
     "text": [
      "[nltk_data] Downloading package stopwords to C:\\Users\\Abhishek\n",
      "[nltk_data]     Baranwal\\AppData\\Roaming\\nltk_data...\n",
      "[nltk_data]   Package stopwords is already up-to-date!\n"
     ]
    },
    {
     "data": {
      "text/plain": [
       "True"
      ]
     },
     "execution_count": 4,
     "metadata": {},
     "output_type": "execute_result"
    },
    {
     "name": "stderr",
     "output_type": "stream",
     "text": [
      "UsageError: Line magic function `%autoreload` not found.\n"
     ]
    }
   ],
   "source": [
    "# Data manipulation\n",
    "import pandas as pd\n",
    "import numpy as np\n",
    "\n",
    "# Options for pandas\n",
    "pd.options.display.max_columns = None\n",
    "pd.options.display.max_rows = None\n",
    "\n",
    "pd.options.display.max_colwidth=-1\n",
    "\n",
    "# Display all cell outputs\n",
    "from IPython.core.interactiveshell import InteractiveShell\n",
    "InteractiveShell.ast_node_interactivity = 'all'\n",
    "\n",
    "from nltk.tokenize import RegexpTokenizer\n",
    "from nltk.corpus import stopwords\n",
    "from nltk.stem.snowball import SnowballStemmer\n",
    "from gensim import corpora, models\n",
    "import gensim\n",
    "import nltk\n",
    "nltk.download(\"stopwords\")\n",
    "\n",
    "\n",
    "%autoreload 2\n",
    "\n",
    "# Visualizations\n",
    "import plotly.express as px\n",
    "\n",
    "import matplotlib.pyplot as plt\n",
    "import seaborn as sns\n",
    "import re\n",
    "\n",
    "import gensim\n",
    "from gensim import corpora\n",
    "\n",
    "# libraries for visualization\n",
    "import pyLDAvis\n",
    "import pyLDAvis.gensim"
   ]
  },
  {
   "cell_type": "code",
   "execution_count": 6,
   "metadata": {},
   "outputs": [],
   "source": [
    "df=pd.read_csv(\"amazon_review.csv\" ,encoding='utf-8')"
   ]
  },
  {
   "cell_type": "code",
   "execution_count": 7,
   "metadata": {},
   "outputs": [
    {
     "data": {
      "text/html": [
       "<div>\n",
       "<style scoped>\n",
       "    .dataframe tbody tr th:only-of-type {\n",
       "        vertical-align: middle;\n",
       "    }\n",
       "\n",
       "    .dataframe tbody tr th {\n",
       "        vertical-align: top;\n",
       "    }\n",
       "\n",
       "    .dataframe thead th {\n",
       "        text-align: right;\n",
       "    }\n",
       "</style>\n",
       "<table border=\"1\" class=\"dataframe\">\n",
       "  <thead>\n",
       "    <tr style=\"text-align: right;\">\n",
       "      <th></th>\n",
       "      <th>Unnamed: 0</th>\n",
       "      <th>0</th>\n",
       "    </tr>\n",
       "  </thead>\n",
       "  <tbody>\n",
       "    <tr>\n",
       "      <th>0</th>\n",
       "      <td>0</td>\n",
       "      <td>I first owned a Bose QC35, however, I felt Bose was not innovating in terms of sound control and technology. This led me to buy the Sony WH-1000XM2 which I used for over a year without any trouble. I was completely happy with them. When Sony released Sony WH-1000XM3, I took the plunge and bought them in November 2018. After a month of using them, I began to hear crackling noises from the ear cups. I ignored them thinking they were some issue with the Bluetooth connection. This issue pursued and the noises became so unbearable that when they randomly came up, I had to immediately remove the headset from my wearing. At this point, I decided to Google the issue and was shocked to see that this was a common issue in most Sony WH-1000XM3.Most of the above issues came up in the warranty period and most, if not everyone had their headsets replaced, however, the shocking part is that many complain that the issues persisted in the new headsets too. Looking at the bright side and the brand name, I was very confident that a new Firmware release would fix everything and just as I thought, there was soon a release, although the issue was not listed, I was hopeful. The new Firmware release did not fix the issue.I still could not get the headsets to the service centre, as I had a long journey coming up, I was considering to use them and then take them to service after my trip, only because the sounds were random and sometimes, they did not show up for a day or two. This was not to be and all of a sudden, the headsets died on me, they would show up in the connection but they would not respond or play music. I tried multiple devices with no luck. It was time to make a trip to the service centre.5th February 2019 (Day 1) I reach Pranank Electronics Sony Authorised Service Centre at around 10. The place is a mess and the receptionist was at her lethargic best, but I believe, she was not trained to handle customers. I asked if I could speak with a technician, when she heard my problem, she just asked for an invoice and my headset, registered a complain and assured me there was no need to speak with anyone as this is a 100% non-repairable product and I will receive a replacement in 7 Days. Feeling upbeat about what she said, I left and went about my business.6th February 2019 (Day 2)I call up Pranank Electronics Sony Authorised Service Centre as a follow up as, on hindsight, I did not believe something could be so simple in India. I spoke with the same lady and she put me on hold and asked their technician about the status. She confirmed, the Sony WH-1000XM3 was dead and a request for replacement has been placed. I asked her if they needed to send this dead Sony WH-1000XM3 for a replacement or if the replacement will arrive without this process being done.12th February 2019 (Day 7)I call Pranank Electronics Sony Authorised Service Centre and was told they did not have an update for me. They asked me to call the Sony Toll Free number. I visit the website and raise an escalation case using my job number. I receive a response within hours. I also get a call from Pranank Electronics Sony Authorised Service Centre mentioning they had a call from their regional office and that they were being pressurised into trying different firmware's, the technician who spoke with me also mentioned that they are preparing an internal firmware which did not have a public release yet and wants to try that and see if that will fix my Sony WH-1000XM3. I was shocked to hear that everyone was working hand in hand and I was told, the local guys were getting pressure from above to keep me at bay. This really is a trust breaker on a brand such as Sony, I bought my Sony WH-1000XM3 for around Rs. 30,000 and after facing issues and bringing a dead set within 90 days and here we are where they are trying to just about make it work and give it back to me.22nd February 2019 (Day 18)As I was travelling for the 10-day gap, I could not really get in touch with them and neither my local service centre or Sony tried to get in touch with me to give me an update. I called Pranank Electronics. The technician was nice enough to inform me that the effort to not give a replacement and fix the existing one was still on. Now that they determined the problem was a faulty motherboard and they were waiting to determine the part number so could order it in. I have no words to describe this deceit. On one hand, I was told that this is a non-repairable item by every person I spoke to representing Sony and on the other hand here we are where they are trying every possible manner to just make it work and dump it on me.I write to Sony, but no response. I explain that I do not want a repair and want a replacement.23rd February 2019 (Day 19)I write to Sony, but no response.25th February 2019 (Day 21)Sony writes back acknowledging that efforts to repair the item are no longer in place and they have placed an order for a headset. We would like to inform you that, we have placed an order for headset and we are arranging the stock from our sources. We assure you that care is taken to ensure the service as early as possible. We assure you that care is taken to ensure the product is delivered as early as possible.6th March 2019 (Day 30)I write a follow up as it has been over 10 days since they placed the order. I begin to wonder if they are looking for a refurbished piece of junk to dump it on me.No response.8th March 2019 (Day 32)I write to them. No response.12th March 2019 (Day 36)I call Pranank Electronics but no one picks up. I try thrice over an hour, but no one picks up. I call Sony on their Toll-Free number. The person picks up, does not apologize, treats it just like normal. I ask when I will have my headset and I am informed that she will expedite it and I will get the replacement headset by the end of this week, which will be  16th March. Sony also has an online option to find the status of the job which is literally useless and give random results. At the moment, it displays that the product has been serviced.14th March 2019 (Day 38)I received a call from Pranank Electronics informing me that the replacement has arrived and I can pick it up. It has to be seen how this replacement works or if they have given a brand new set or a refurbished one.15th March 2019 (Day 39)Upon reaching Pranank Electronics, I was shocked to see that there were massive letters written with a sketch on the box of the headsets. I was under the assumption that these were new. To my surprise, they had repaired my headsets and were giving me back my headsets and not a replacement as promised right from day one. I called the manager of the store and he had no clue about this replacement promise that his staff and the sony centre had made. I called Sony care on the toll-free number. The person who picked up the call had no clue what was going on but did acknowledge that a replacement request was placed. I explained and refused to take the repaired headset, he asked me to hand over the phone to the service centre staff. I had no idea what he spoke but he finally told me that I will be getting a call from the service centre and that he was escalating my case with utmost priority. I was terribly disappointed.I am not sure how long this will go on for but I am having a nightmare with these, the reason I refuse to take a repaired headsets is because of their short lifetime and also because I was explicitly told that these were a non-repairable product and somehow they have repaired them.\\n</td>\n",
       "    </tr>\n",
       "    <tr>\n",
       "      <th>1</th>\n",
       "      <td>1</td>\n",
       "      <td>This is my FIRST Noise Cancellation Headphones! So NOT AN Expert opinion :P-) Noise Cancellation is like using a tight In-Ear headphones But this is more comfortable-) This will block external noise like AC, FAN, Rain etc. Block means not 100% but 80 to 90%!-) If you play music! You will not hear anything from outside world! (As I said an In-Ear headphones do the same but it will be slightly painful)-) A tight In-Ear headphones are not a replacement for Built in Noise Cancellation! I just point it out to the people who never experienced a Noise Cancellation headphones in life. This Noise Cancellation is Another level. You will only believe it when you actually get a chance to use it. NO YouTube reviews will give you the real experience.This Noise Cancellation Headphones is useful WHEN- I watch youtube videos / tutorials- I write code- I brainstorming- I travel- I go to bed and hear some songs before sleep- I need to disconnect from the annoying world! around me :)Battery life is really good. USB-C means one less cable, Fast charging is good!, Touch control is awesome, if you put right hand to right ear cup you can come back to the world you are in. it is a huge plus, when mom are dad call me! all I need to do is put my hand on the right ear cup!Overall this NC Headphone Improved my life! Here is how.- Now I can focus more on my work- Less distraction from external noise (It is not 100% But 99% of the time it is 100%)- I hate travelling because of the the sounds and noise will influence my thoughts, I actually waste my time while travel because of that. yes a good In-Ear earphone can help but this is another level. So now I can actually do my stuff in my own world using this Noise Cancellation Headphones!Value?Yes -- if you have 30K to throw away. And it will not hurt your life in any way.No -- if you need to save money for next 12 Months to get this.Sound Quality?Base is there! If you are looking for that.But the nice thing is Sony's EQ can Adapt! That means anyone can change the Sound Aspects according to there needs from the Application. Out of the box it is perfect for my taste!If someone like less base you can change that through EQ.No product is perfect so in this Model what to improve?- Only once device can be connected at a time. (Minimum 2 devices is required now a days! [eg Laptop and SmartPhone])- User replaceable ear cup cushions!- Call Quality. This Headphones have an array of microphones but when when we call someone they will hear all Background Noise. I used it for some VOIP calls, It is usable but built in Microphones on your phone will do a much better job.- More and improved NC! Yes why not. There is always room for improvements.^^ I really don't know what to write as cons.I will Update this after using this for a week or two. bye.﻿\\n</td>\n",
       "    </tr>\n",
       "    <tr>\n",
       "      <th>2</th>\n",
       "      <td>2</td>\n",
       "      <td>Just received my 1000MX3 . Just as you would expect from Amazon. Everything was perfect. Burned just four songs from my Apple Music playlist. That was all that was needed to make my decision. I have been using my QC 35 since the last year or so and used to use it a lot for streaming . I and my wife have a completely opposite tastes in TV Viewership therefore one of us uses the headphones. Noise cancelling is hands down better than QC 35 and sound quality is also better if just slightly so . The feature of allowing outside sound while keeping a hand on one of the cups is also very good. This is my very first impression. Maybe I’ll follow up with a more detailed review after using it more . For now I’ll say that if you’re confused between QC 35 and 1000Mx3 I’ll say go for the Sony\\n</td>\n",
       "    </tr>\n",
       "    <tr>\n",
       "      <th>3</th>\n",
       "      <td>3</td>\n",
       "      <td>These are my initial thoughtsThey definitely look premiumSound Quality is quite impressive even at full volume doesn't distort.You will hear so much more of a song beacuse of the clarity.I am using Saavn to play music at 320kbpsNoise Cancelling is great but will still have to use it in real scenarios.Ears do feel a bit warm after sometime  but I think Mumbai's humid weather is probably to be blamed.Overall extremely excited to use themI would highly recommend these over the Bose QC35s.\\n</td>\n",
       "    </tr>\n",
       "    <tr>\n",
       "      <th>4</th>\n",
       "      <td>4</td>\n",
       "      <td>Likes1. Great sound quality2. Amazing battery with fast charging(Type C).10 mins of charging led to 70% battery3. Comfortable to wear and Noise cancelling is great4. Bass can be controlled via connect app.In bose qc 35 there is no bass so +Point for sony5. Premium look and touch works perfectly fineDislikes1. Expensive but worth it2. Thumping sound is heard when touch is used.\\n</td>\n",
       "    </tr>\n",
       "  </tbody>\n",
       "</table>\n",
       "</div>"
      ],
      "text/plain": [
       "   Unnamed: 0  \\\n",
       "0  0            \n",
       "1  1            \n",
       "2  2            \n",
       "3  3            \n",
       "4  4            \n",
       "\n",
       "                                                                                                                                                                                                                                                                                                                                                                                                                                                                                                                                                                                                                                                                                                                                                                                                                                                                                                                                                                                                                                                                                                                                                                                                                                                                                                                                                                                                                                                                                                                                                                                                                                                                                                                                                                                                                                                                                                                                                                                                                                                                                                                                                                                                                                                                                                                                                                                                                                                                                                                                                                                                                                                                                                                                                                                                                                                                                                                                                                                                                                                                                                                                                                                                                                                                                                                                                                                                                                                                                                                                                                                                                                                                                                                                                                                                                                                                                                                                                                                                                                                                                                                                                                                                                                                                                                                                                                                                                                                                                                                                                                                                                                                                                                                                                                                                                                                                                                                                                                                                                                                                                                                                                                                                                                                                                                                                                                                                                                                                                                                                                                                                                                                                                                                                                                                                                                                                                                                                                                                                                                                                                                                                                                                                                                                                                                                                                                                                                                                                                                                                                                                                                                                                                                                                                                                                                                                                                                                                                                                                                                                                                                                                                                                                                                                                                                                                                                                                                                                                                                                                                                                                                                                                                                                                                                                                                                     0  \n",
       "0  I first owned a Bose QC35, however, I felt Bose was not innovating in terms of sound control and technology. This led me to buy the Sony WH-1000XM2 which I used for over a year without any trouble. I was completely happy with them. When Sony released Sony WH-1000XM3, I took the plunge and bought them in November 2018. After a month of using them, I began to hear crackling noises from the ear cups. I ignored them thinking they were some issue with the Bluetooth connection. This issue pursued and the noises became so unbearable that when they randomly came up, I had to immediately remove the headset from my wearing. At this point, I decided to Google the issue and was shocked to see that this was a common issue in most Sony WH-1000XM3.Most of the above issues came up in the warranty period and most, if not everyone had their headsets replaced, however, the shocking part is that many complain that the issues persisted in the new headsets too. Looking at the bright side and the brand name, I was very confident that a new Firmware release would fix everything and just as I thought, there was soon a release, although the issue was not listed, I was hopeful. The new Firmware release did not fix the issue.I still could not get the headsets to the service centre, as I had a long journey coming up, I was considering to use them and then take them to service after my trip, only because the sounds were random and sometimes, they did not show up for a day or two. This was not to be and all of a sudden, the headsets died on me, they would show up in the connection but they would not respond or play music. I tried multiple devices with no luck. It was time to make a trip to the service centre.5th February 2019 (Day 1) I reach Pranank Electronics Sony Authorised Service Centre at around 10. The place is a mess and the receptionist was at her lethargic best, but I believe, she was not trained to handle customers. I asked if I could speak with a technician, when she heard my problem, she just asked for an invoice and my headset, registered a complain and assured me there was no need to speak with anyone as this is a 100% non-repairable product and I will receive a replacement in 7 Days. Feeling upbeat about what she said, I left and went about my business.6th February 2019 (Day 2)I call up Pranank Electronics Sony Authorised Service Centre as a follow up as, on hindsight, I did not believe something could be so simple in India. I spoke with the same lady and she put me on hold and asked their technician about the status. She confirmed, the Sony WH-1000XM3 was dead and a request for replacement has been placed. I asked her if they needed to send this dead Sony WH-1000XM3 for a replacement or if the replacement will arrive without this process being done.12th February 2019 (Day 7)I call Pranank Electronics Sony Authorised Service Centre and was told they did not have an update for me. They asked me to call the Sony Toll Free number. I visit the website and raise an escalation case using my job number. I receive a response within hours. I also get a call from Pranank Electronics Sony Authorised Service Centre mentioning they had a call from their regional office and that they were being pressurised into trying different firmware's, the technician who spoke with me also mentioned that they are preparing an internal firmware which did not have a public release yet and wants to try that and see if that will fix my Sony WH-1000XM3. I was shocked to hear that everyone was working hand in hand and I was told, the local guys were getting pressure from above to keep me at bay. This really is a trust breaker on a brand such as Sony, I bought my Sony WH-1000XM3 for around Rs. 30,000 and after facing issues and bringing a dead set within 90 days and here we are where they are trying to just about make it work and give it back to me.22nd February 2019 (Day 18)As I was travelling for the 10-day gap, I could not really get in touch with them and neither my local service centre or Sony tried to get in touch with me to give me an update. I called Pranank Electronics. The technician was nice enough to inform me that the effort to not give a replacement and fix the existing one was still on. Now that they determined the problem was a faulty motherboard and they were waiting to determine the part number so could order it in. I have no words to describe this deceit. On one hand, I was told that this is a non-repairable item by every person I spoke to representing Sony and on the other hand here we are where they are trying every possible manner to just make it work and dump it on me.I write to Sony, but no response. I explain that I do not want a repair and want a replacement.23rd February 2019 (Day 19)I write to Sony, but no response.25th February 2019 (Day 21)Sony writes back acknowledging that efforts to repair the item are no longer in place and they have placed an order for a headset. We would like to inform you that, we have placed an order for headset and we are arranging the stock from our sources. We assure you that care is taken to ensure the service as early as possible. We assure you that care is taken to ensure the product is delivered as early as possible.6th March 2019 (Day 30)I write a follow up as it has been over 10 days since they placed the order. I begin to wonder if they are looking for a refurbished piece of junk to dump it on me.No response.8th March 2019 (Day 32)I write to them. No response.12th March 2019 (Day 36)I call Pranank Electronics but no one picks up. I try thrice over an hour, but no one picks up. I call Sony on their Toll-Free number. The person picks up, does not apologize, treats it just like normal. I ask when I will have my headset and I am informed that she will expedite it and I will get the replacement headset by the end of this week, which will be  16th March. Sony also has an online option to find the status of the job which is literally useless and give random results. At the moment, it displays that the product has been serviced.14th March 2019 (Day 38)I received a call from Pranank Electronics informing me that the replacement has arrived and I can pick it up. It has to be seen how this replacement works or if they have given a brand new set or a refurbished one.15th March 2019 (Day 39)Upon reaching Pranank Electronics, I was shocked to see that there were massive letters written with a sketch on the box of the headsets. I was under the assumption that these were new. To my surprise, they had repaired my headsets and were giving me back my headsets and not a replacement as promised right from day one. I called the manager of the store and he had no clue about this replacement promise that his staff and the sony centre had made. I called Sony care on the toll-free number. The person who picked up the call had no clue what was going on but did acknowledge that a replacement request was placed. I explained and refused to take the repaired headset, he asked me to hand over the phone to the service centre staff. I had no idea what he spoke but he finally told me that I will be getting a call from the service centre and that he was escalating my case with utmost priority. I was terribly disappointed.I am not sure how long this will go on for but I am having a nightmare with these, the reason I refuse to take a repaired headsets is because of their short lifetime and also because I was explicitly told that these were a non-repairable product and somehow they have repaired them.\\n  \n",
       "1  This is my FIRST Noise Cancellation Headphones! So NOT AN Expert opinion :P-) Noise Cancellation is like using a tight In-Ear headphones But this is more comfortable-) This will block external noise like AC, FAN, Rain etc. Block means not 100% but 80 to 90%!-) If you play music! You will not hear anything from outside world! (As I said an In-Ear headphones do the same but it will be slightly painful)-) A tight In-Ear headphones are not a replacement for Built in Noise Cancellation! I just point it out to the people who never experienced a Noise Cancellation headphones in life. This Noise Cancellation is Another level. You will only believe it when you actually get a chance to use it. NO YouTube reviews will give you the real experience.This Noise Cancellation Headphones is useful WHEN- I watch youtube videos / tutorials- I write code- I brainstorming- I travel- I go to bed and hear some songs before sleep- I need to disconnect from the annoying world! around me :)Battery life is really good. USB-C means one less cable, Fast charging is good!, Touch control is awesome, if you put right hand to right ear cup you can come back to the world you are in. it is a huge plus, when mom are dad call me! all I need to do is put my hand on the right ear cup!Overall this NC Headphone Improved my life! Here is how.- Now I can focus more on my work- Less distraction from external noise (It is not 100% But 99% of the time it is 100%)- I hate travelling because of the the sounds and noise will influence my thoughts, I actually waste my time while travel because of that. yes a good In-Ear earphone can help but this is another level. So now I can actually do my stuff in my own world using this Noise Cancellation Headphones!Value?Yes -- if you have 30K to throw away. And it will not hurt your life in any way.No -- if you need to save money for next 12 Months to get this.Sound Quality?Base is there! If you are looking for that.But the nice thing is Sony's EQ can Adapt! That means anyone can change the Sound Aspects according to there needs from the Application. Out of the box it is perfect for my taste!If someone like less base you can change that through EQ.No product is perfect so in this Model what to improve?- Only once device can be connected at a time. (Minimum 2 devices is required now a days! [eg Laptop and SmartPhone])- User replaceable ear cup cushions!- Call Quality. This Headphones have an array of microphones but when when we call someone they will hear all Background Noise. I used it for some VOIP calls, It is usable but built in Microphones on your phone will do a much better job.- More and improved NC! Yes why not. There is always room for improvements.^^ I really don't know what to write as cons.I will Update this after using this for a week or two. bye.﻿\\n                                                                                                                                                                                                                                                                                                                                                                                                                                                                                                                                                                                                                                                                                                                                                                                                                                                                                                                                                                                                                                                                                                                                                                                                                                                                                                                                                                                                                                                                                                                                                                                                                                                                                                                                                                                                                                                                                                                                                                                                                                                                                                                                                                                                                                                                                                                                                                                                                                                                                                                                                                                                                                                                                                                                                                                                                                                                                                                                                                                                                                                                                                                                                                                                                                                                                                                                                                                                                                                                                                                                                                                                                                                                                                                                                                                                                                                                                                                                                                                                                                                                                                                                                                                                                                                                                                                                                                                                                                                                                                                                                                                                                                                                                                                                                                                                                                                                                                                   \n",
       "2  Just received my 1000MX3 . Just as you would expect from Amazon. Everything was perfect. Burned just four songs from my Apple Music playlist. That was all that was needed to make my decision. I have been using my QC 35 since the last year or so and used to use it a lot for streaming . I and my wife have a completely opposite tastes in TV Viewership therefore one of us uses the headphones. Noise cancelling is hands down better than QC 35 and sound quality is also better if just slightly so . The feature of allowing outside sound while keeping a hand on one of the cups is also very good. This is my very first impression. Maybe I’ll follow up with a more detailed review after using it more . For now I’ll say that if you’re confused between QC 35 and 1000Mx3 I’ll say go for the Sony\\n                                                                                                                                                                                                                                                                                                                                                                                                                                                                                                                                                                                                                                                                                                                                                                                                                                                                                                                                                                                                                                                                                                                                                                                                                                                                                                                                                                                                                                                                                                                                                                                                                                                                                                                                                                                                                                                                                                                                                                                                                                                                                                                                                                                                                                                                                                                                                                                                                                                                                                                                                                                                                                                                                                                                                                                                                                                                                                                                                                                                                                                                                                                                                                                                                                                                                                                                                                                                                                                                                                                                                                                                                                                                                                                                                                                                                                                                                                                                                                                                                                                                                                                                                                                                                                                                                                                                                                                                                                                                                                                                                                                                                                                                                                                                                                                                                                                                                                                                                                                                                                                                                                                                                                                                                                                                                                                                                                                                                                                                                                                                                                                                                                                                                                                                                                                                                                                                                                                                                                                                                                                                                                                                                                                                                                                                                                                                                                                                                                                                                                                                                                                                                                                                                                                                                                                                                                                                                                                                                                                                              \n",
       "3  These are my initial thoughtsThey definitely look premiumSound Quality is quite impressive even at full volume doesn't distort.You will hear so much more of a song beacuse of the clarity.I am using Saavn to play music at 320kbpsNoise Cancelling is great but will still have to use it in real scenarios.Ears do feel a bit warm after sometime  but I think Mumbai's humid weather is probably to be blamed.Overall extremely excited to use themI would highly recommend these over the Bose QC35s.\\n                                                                                                                                                                                                                                                                                                                                                                                                                                                                                                                                                                                                                                                                                                                                                                                                                                                                                                                                                                                                                                                                                                                                                                                                                                                                                                                                                                                                                                                                                                                                                                                                                                                                                                                                                                                                                                                                                                                                                                                                                                                                                                                                                                                                                                                                                                                                                                                                                                                                                                                                                                                                                                                                                                                                                                                                                                                                                                                                                                                                                                                                                                                                                                                                                                                                                                                                                                                                                                                                                                                                                                                                                                                                                                                                                                                                                                                                                                                                                                                                                                                                                                                                                                                                                                                                                                                                                                                                                                                                                                                                                                                                                                                                                                                                                                                                                                                                                                                                                                                                                                                                                                                                                                                                                                                                                                                                                                                                                                                                                                                                                                                                                                                                                                                                                                                                                                                                                                                                                                                                                                                                                                                                                                                                                                                                                                                                                                                                                                                                                                                                                                                                                                                                                                                                                                                                                                                                                                                                                                                                                                                                                                                                                                                                                                                                                                                         \n",
       "4  Likes1. Great sound quality2. Amazing battery with fast charging(Type C).10 mins of charging led to 70% battery3. Comfortable to wear and Noise cancelling is great4. Bass can be controlled via connect app.In bose qc 35 there is no bass so +Point for sony5. Premium look and touch works perfectly fineDislikes1. Expensive but worth it2. Thumping sound is heard when touch is used.\\n                                                                                                                                                                                                                                                                                                                                                                                                                                                                                                                                                                                                                                                                                                                                                                                                                                                                                                                                                                                                                                                                                                                                                                                                                                                                                                                                                                                                                                                                                                                                                                                                                                                                                                                                                                                                                                                                                                                                                                                                                                                                                                                                                                                                                                                                                                                                                                                                                                                                                                                                                                                                                                                                                                                                                                                                                                                                                                                                                                                                                                                                                                                                                                                                                                                                                                                                                                                                                                                                                                                                                                                                                                                                                                                                                                                                                                                                                                                                                                                                                                                                                                                                                                                                                                                                                                                                                                                                                                                                                                                                                                                                                                                                                                                                                                                                                                                                                                                                                                                                                                                                                                                                                                                                                                                                                                                                                                                                                                                                                                                                                                                                                                                                                                                                                                                                                                                                                                                                                                                                                                                                                                                                                                                                                                                                                                                                                                                                                                                                                                                                                                                                                                                                                                                                                                                                                                                                                                                                                                                                                                                                                                                                                                                                                                                                                                                                                                                                                                        "
      ]
     },
     "execution_count": 7,
     "metadata": {},
     "output_type": "execute_result"
    }
   ],
   "source": [
    "df.head()"
   ]
  },
  {
   "cell_type": "code",
   "execution_count": 8,
   "metadata": {},
   "outputs": [
    {
     "name": "stdout",
     "output_type": "stream",
     "text": [
      "<class 'pandas.core.frame.DataFrame'>\n",
      "RangeIndex: 10422 entries, 0 to 10421\n",
      "Data columns (total 2 columns):\n",
      "Unnamed: 0    10422 non-null int64\n",
      "0             10422 non-null object\n",
      "dtypes: int64(1), object(1)\n",
      "memory usage: 162.9+ KB\n"
     ]
    }
   ],
   "source": [
    "df.info()"
   ]
  },
  {
   "cell_type": "code",
   "execution_count": 16,
   "metadata": {},
   "outputs": [
    {
     "data": {
      "text/plain": [
       "\"I first owned a Bose QC35, however, I felt Bose was not innovating in terms of sound control and technology. This led me to buy the Sony WH-1000XM2 which I used for over a year without any trouble. I was completely happy with them. When Sony released Sony WH-1000XM3, I took the plunge and bought them in November 2018. After a month of using them, I began to hear crackling noises from the ear cups. I ignored them thinking they were some issue with the Bluetooth connection. This issue pursued and the noises became so unbearable that when they randomly came up, I had to immediately remove the headset from my wearing. At this point, I decided to Google the issue and was shocked to see that this was a common issue in most Sony WH-1000XM3.Most of the above issues came up in the warranty period and most, if not everyone had their headsets replaced, however, the shocking part is that many complain that the issues persisted in the new headsets too. Looking at the bright side and the brand name, I was very confident that a new Firmware release would fix everything and just as I thought, there was soon a release, although the issue was not listed, I was hopeful. The new Firmware release did not fix the issue.I still could not get the headsets to the service centre, as I had a long journey coming up, I was considering to use them and then take them to service after my trip, only because the sounds were random and sometimes, they did not show up for a day or two. This was not to be and all of a sudden, the headsets died on me, they would show up in the connection but they would not respond or play music. I tried multiple devices with no luck. It was time to make a trip to the service centre.5th February 2019 (Day 1) I reach Pranank Electronics Sony Authorised Service Centre at around 10. The place is a mess and the receptionist was at her lethargic best, but I believe, she was not trained to handle customers. I asked if I could speak with a technician, when she heard my problem, she just asked for an invoice and my headset, registered a complain and assured me there was no need to speak with anyone as this is a 100% non-repairable product and I will receive a replacement in 7 Days. Feeling upbeat about what she said, I left and went about my business.6th February 2019 (Day 2)I call up Pranank Electronics Sony Authorised Service Centre as a follow up as, on hindsight, I did not believe something could be so simple in India. I spoke with the same lady and she put me on hold and asked their technician about the status. She confirmed, the Sony WH-1000XM3 was dead and a request for replacement has been placed. I asked her if they needed to send this dead Sony WH-1000XM3 for a replacement or if the replacement will arrive without this process being done.12th February 2019 (Day 7)I call Pranank Electronics Sony Authorised Service Centre and was told they did not have an update for me. They asked me to call the Sony Toll Free number. I visit the website and raise an escalation case using my job number. I receive a response within hours. I also get a call from Pranank Electronics Sony Authorised Service Centre mentioning they had a call from their regional office and that they were being pressurised into trying different firmware's, the technician who spoke with me also mentioned that they are preparing an internal firmware which did not have a public release yet and wants to try that and see if that will fix my Sony WH-1000XM3. I was shocked to hear that everyone was working hand in hand and I was told, the local guys were getting pressure from above to keep me at bay. This really is a trust breaker on a brand such as Sony, I bought my Sony WH-1000XM3 for around Rs. 30,000 and after facing issues and bringing a dead set within 90 days and here we are where they are trying to just about make it work and give it back to me.22nd February 2019 (Day 18)As I was travelling for the 10-day gap, I could not really get in touch with them and neither my local service centre or Sony tried to get in touch with me to give me an update. I called Pranank Electronics. The technician was nice enough to inform me that the effort to not give a replacement and fix the existing one was still on. Now that they determined the problem was a faulty motherboard and they were waiting to determine the part number so could order it in. I have no words to describe this deceit. On one hand, I was told that this is a non-repairable item by every person I spoke to representing Sony and on the other hand here we are where they are trying every possible manner to just make it work and dump it on me.I write to Sony, but no response. I explain that I do not want a repair and want a replacement.23rd February 2019 (Day 19)I write to Sony, but no response.25th February 2019 (Day 21)Sony writes back acknowledging that efforts to repair the item are no longer in place and they have placed an order for a headset. We would like to inform you that, we have placed an order for\\xa0headset and we are arranging the stock from our sources. We assure you that care is taken to ensure the service as early as possible. We assure you that care is taken to ensure the product is delivered as early as possible.6th March 2019 (Day 30)I write a follow up as it has been over 10 days since they placed the order. I begin to wonder if they are looking for a refurbished piece of junk to dump it on me.No response.8th March 2019 (Day 32)I write to them. No response.12th March 2019 (Day 36)I call Pranank Electronics but no one picks up. I try thrice over an hour, but no one picks up. I call Sony on their Toll-Free number. The person picks up, does not apologize, treats it just like normal. I ask when I will have my headset and I am informed that she will expedite it and I will get the replacement headset by the end of this week, which will be\\xa0 16th March. Sony also has an online option to find the status of the job which is literally useless and give random results. At the moment, it displays that the product has been serviced.14th March 2019 (Day 38)I received a call from Pranank Electronics informing me that the replacement has arrived and I can pick it up. It has to be seen how this replacement works or if they have given a brand new set or a refurbished one.15th March 2019 (Day 39)Upon reaching Pranank Electronics, I was shocked to see that there were massive letters written with a sketch on the box of the headsets. I was under the assumption that these were new. To my surprise, they had repaired my headsets and were giving me back my headsets and not a replacement as promised right from day one. I called the manager of the store and he had no clue about this replacement promise that his staff and the sony centre had made. I called Sony care on the toll-free number. The person who picked up the call had no clue what was going on but did acknowledge that a replacement request was placed. I explained and refused to take the repaired headset, he asked me to hand over the phone to the service centre staff. I had no idea what he spoke but he finally told me that I will be getting a call from the service centre and that he was escalating my case with utmost priority. I was terribly disappointed.I am not sure how long this will go on for but I am having a nightmare with these, the reason I refuse to take a repaired headsets is because of their short lifetime and also because I was explicitly told that these were a non-repairable product and somehow they have repaired them.\\n\""
      ]
     },
     "execution_count": 16,
     "metadata": {},
     "output_type": "execute_result"
    }
   ],
   "source": [
    "df['0'][0]"
   ]
  },
  {
   "cell_type": "markdown",
   "metadata": {},
   "source": [
    "# Tokenization"
   ]
  },
  {
   "cell_type": "code",
   "execution_count": 17,
   "metadata": {},
   "outputs": [],
   "source": [
    "tokenizer = RegexpTokenizer(r'\\w+')"
   ]
  },
  {
   "cell_type": "code",
   "execution_count": 23,
   "metadata": {},
   "outputs": [],
   "source": [
    "doc_1 = df['0'][0]"
   ]
  },
  {
   "cell_type": "code",
   "execution_count": 24,
   "metadata": {},
   "outputs": [],
   "source": [
    "tokens = tokenizer.tokenize(doc_1.lower())"
   ]
  },
  {
   "cell_type": "code",
   "execution_count": 25,
   "metadata": {},
   "outputs": [
    {
     "name": "stdout",
     "output_type": "stream",
     "text": [
      "7522 characters in string vs 1443 words in a list\n",
      "['i', 'first', 'owned', 'a', 'bose', 'qc35', 'however', 'i', 'felt', 'bose']\n"
     ]
    }
   ],
   "source": [
    "print('{} characters in string vs {} words in a list'.format(len(doc_1),                                                             len(tokens)))\n",
    "print(tokens[:10])"
   ]
  },
  {
   "cell_type": "markdown",
   "metadata": {},
   "source": [
    "# Stop Words"
   ]
  },
  {
   "cell_type": "code",
   "execution_count": 26,
   "metadata": {},
   "outputs": [],
   "source": [
    "nltk_stpwd = stopwords.words('english')"
   ]
  },
  {
   "cell_type": "code",
   "execution_count": 27,
   "metadata": {},
   "outputs": [
    {
     "name": "stdout",
     "output_type": "stream",
     "text": [
      "179\n",
      "['i', 'me', 'my', 'myself', 'we', 'our', 'ours', 'ourselves', 'you', \"you're\"]\n"
     ]
    }
   ],
   "source": [
    "print(len(set(nltk_stpwd)))\n",
    "print(nltk_stpwd[:10])"
   ]
  },
  {
   "cell_type": "code",
   "execution_count": 28,
   "metadata": {},
   "outputs": [
    {
     "name": "stdout",
     "output_type": "stream",
     "text": [
      "['first', 'owned', 'bose', 'qc35', 'however', 'felt', 'bose', 'innovating', 'terms', 'sound']\n"
     ]
    }
   ],
   "source": [
    "stopped_tokens = [token for token in tokens if not token in nltk_stpwd]\n",
    "print(stopped_tokens[:10])"
   ]
  },
  {
   "cell_type": "markdown",
   "metadata": {},
   "source": [
    "# Stemming"
   ]
  },
  {
   "cell_type": "code",
   "execution_count": 29,
   "metadata": {},
   "outputs": [],
   "source": [
    "sb_stemmer = SnowballStemmer('english')"
   ]
  },
  {
   "cell_type": "code",
   "execution_count": 30,
   "metadata": {},
   "outputs": [
    {
     "name": "stdout",
     "output_type": "stream",
     "text": [
      "['first', 'own', 'bose', 'qc35', 'howev', 'felt', 'bose', 'innov', 'term', 'sound', 'control', 'technolog', 'led', 'buy', 'soni', 'wh', '1000xm2', 'use', 'year', 'without', 'troubl', 'complet', 'happi', 'soni', 'releas', 'soni', 'wh', '1000xm3', 'took', 'plung', 'bought', 'novemb', '2018', 'month', 'use', 'began', 'hear', 'crackl', 'nois', 'ear', 'cup', 'ignor', 'think', 'issu', 'bluetooth', 'connect', 'issu', 'pursu', 'nois', 'becam', 'unbear', 'random', 'came', 'immedi', 'remov', 'headset', 'wear', 'point', 'decid', 'googl', 'issu', 'shock', 'see', 'common', 'issu', 'soni', 'wh', '1000xm3', 'issu', 'came', 'warranti', 'period', 'everyon', 'headset', 'replac', 'howev', 'shock', 'part', 'mani', 'complain', 'issu', 'persist', 'new', 'headset', 'look', 'bright', 'side', 'brand', 'name', 'confid', 'new', 'firmwar', 'releas', 'would', 'fix', 'everyth', 'thought', 'soon', 'releas', 'although', 'issu', 'list', 'hope', 'new', 'firmwar', 'releas', 'fix', 'issu', 'still', 'could', 'get', 'headset', 'servic', 'centr', 'long', 'journey', 'come', 'consid', 'use', 'take', 'servic', 'trip', 'sound', 'random', 'sometim', 'show', 'day', 'two', 'sudden', 'headset', 'die', 'would', 'show', 'connect', 'would', 'respond', 'play', 'music', 'tri', 'multipl', 'devic', 'luck', 'time', 'make', 'trip', 'servic', 'centr', '5th', 'februari', '2019', 'day', '1', 'reach', 'pranank', 'electron', 'soni', 'authoris', 'servic', 'centr', 'around', '10', 'place', 'mess', 'receptionist', 'letharg', 'best', 'believ', 'train', 'handl', 'custom', 'ask', 'could', 'speak', 'technician', 'heard', 'problem', 'ask', 'invoic', 'headset', 'regist', 'complain', 'assur', 'need', 'speak', 'anyon', '100', 'non', 'repair', 'product', 'receiv', 'replac', '7', 'day', 'feel', 'upbeat', 'said', 'left', 'went', 'busi', '6th', 'februari', '2019', 'day', '2', 'call', 'pranank', 'electron', 'soni', 'authoris', 'servic', 'centr', 'follow', 'hindsight', 'believ', 'someth', 'could', 'simpl', 'india', 'spoke', 'ladi', 'put', 'hold', 'ask', 'technician', 'status', 'confirm', 'soni', 'wh', '1000xm3', 'dead', 'request', 'replac', 'place', 'ask', 'need', 'send', 'dead', 'soni', 'wh', '1000xm3', 'replac', 'replac', 'arriv', 'without', 'process', 'done', '12th', 'februari', '2019', 'day', '7', 'call', 'pranank', 'electron', 'soni', 'authoris', 'servic', 'centr', 'told', 'updat', 'ask', 'call', 'soni', 'toll', 'free', 'number', 'visit', 'websit', 'rais', 'escal', 'case', 'use', 'job', 'number', 'receiv', 'respons', 'within', 'hour', 'also', 'get', 'call', 'pranank', 'electron', 'soni', 'authoris', 'servic', 'centr', 'mention', 'call', 'region', 'offic', 'pressuris', 'tri', 'differ', 'firmwar', 'technician', 'spoke', 'also', 'mention', 'prepar', 'intern', 'firmwar', 'public', 'releas', 'yet', 'want', 'tri', 'see', 'fix', 'soni', 'wh', '1000xm3', 'shock', 'hear', 'everyon', 'work', 'hand', 'hand', 'told', 'local', 'guy', 'get', 'pressur', 'keep', 'bay', 'realli', 'trust', 'breaker', 'brand', 'soni', 'bought', 'soni', 'wh', '1000xm3', 'around', 'rs', '30', '000', 'face', 'issu', 'bring', 'dead', 'set', 'within', '90', 'day', 'tri', 'make', 'work', 'give', 'back', '22nd', 'februari', '2019', 'day', '18', 'travel', '10', 'day', 'gap', 'could', 'realli', 'get', 'touch', 'neither', 'local', 'servic', 'centr', 'soni', 'tri', 'get', 'touch', 'give', 'updat', 'call', 'pranank', 'electron', 'technician', 'nice', 'enough', 'inform', 'effort', 'give', 'replac', 'fix', 'exist', 'one', 'still', 'determin', 'problem', 'faulti', 'motherboard', 'wait', 'determin', 'part', 'number', 'could', 'order', 'word', 'describ', 'deceit', 'one', 'hand', 'told', 'non', 'repair', 'item', 'everi', 'person', 'spoke', 'repres', 'soni', 'hand', 'tri', 'everi', 'possibl', 'manner', 'make', 'work', 'dump', 'write', 'soni', 'respons', 'explain', 'want', 'repair', 'want', 'replac', '23rd', 'februari', '2019', 'day', '19', 'write', 'soni', 'respons', '25th', 'februari', '2019', 'day', '21', 'soni', 'write', 'back', 'acknowledg', 'effort', 'repair', 'item', 'longer', 'place', 'place', 'order', 'headset', 'would', 'like', 'inform', 'place', 'order', 'headset', 'arrang', 'stock', 'sourc', 'assur', 'care', 'taken', 'ensur', 'servic', 'earli', 'possibl', 'assur', 'care', 'taken', 'ensur', 'product', 'deliv', 'earli', 'possibl', '6th', 'march', '2019', 'day', '30', 'write', 'follow', '10', 'day', 'sinc', 'place', 'order', 'begin', 'wonder', 'look', 'refurbish', 'piec', 'junk', 'dump', 'respons', '8th', 'march', '2019', 'day', '32', 'write', 'respons', '12th', 'march', '2019', 'day', '36', 'call', 'pranank', 'electron', 'one', 'pick', 'tri', 'thrice', 'hour', 'one', 'pick', 'call', 'soni', 'toll', 'free', 'number', 'person', 'pick', 'apolog', 'treat', 'like', 'normal', 'ask', 'headset', 'inform', 'expedit', 'get', 'replac', 'headset', 'end', 'week', '16th', 'march', 'soni', 'also', 'onlin', 'option', 'find', 'status', 'job', 'liter', 'useless', 'give', 'random', 'result', 'moment', 'display', 'product', 'servic', '14th', 'march', '2019', 'day', '38', 'receiv', 'call', 'pranank', 'electron', 'inform', 'replac', 'arriv', 'pick', 'seen', 'replac', 'work', 'given', 'brand', 'new', 'set', 'refurbish', 'one', '15th', 'march', '2019', 'day', '39', 'upon', 'reach', 'pranank', 'electron', 'shock', 'see', 'massiv', 'letter', 'written', 'sketch', 'box', 'headset', 'assumpt', 'new', 'surpris', 'repair', 'headset', 'give', 'back', 'headset', 'replac', 'promis', 'right', 'day', 'one', 'call', 'manag', 'store', 'clue', 'replac', 'promis', 'staff', 'soni', 'centr', 'made', 'call', 'soni', 'care', 'toll', 'free', 'number', 'person', 'pick', 'call', 'clue', 'go', 'acknowledg', 'replac', 'request', 'place', 'explain', 'refus', 'take', 'repair', 'headset', 'ask', 'hand', 'phone', 'servic', 'centr', 'staff', 'idea', 'spoke', 'final', 'told', 'get', 'call', 'servic', 'centr', 'escal', 'case', 'utmost', 'prioriti', 'terribl', 'disappoint', 'sure', 'long', 'go', 'nightmar', 'reason', 'refus', 'take', 'repair', 'headset', 'short', 'lifetim', 'also', 'explicit', 'told', 'non', 'repair', 'product', 'somehow', 'repair']\n"
     ]
    }
   ],
   "source": [
    "stemmed_tokens = [sb_stemmer.stem(token) for token in stopped_tokens]\n",
    "print(stemmed_tokens)"
   ]
  },
  {
   "cell_type": "code",
   "execution_count": 37,
   "metadata": {},
   "outputs": [],
   "source": [
    "num_reviews = df.shape[0]\n",
    "doc_set = [df['0'][i] for i in range(num_reviews)]"
   ]
  },
  {
   "cell_type": "code",
   "execution_count": 38,
   "metadata": {},
   "outputs": [],
   "source": [
    "texts = []"
   ]
  },
  {
   "cell_type": "code",
   "execution_count": 39,
   "metadata": {},
   "outputs": [
    {
     "name": "stdout",
     "output_type": "stream",
     "text": [
      "['first', 'nois', 'cancel', 'headphon', 'expert', 'opinion', 'p', 'nois', 'cancel', 'like', 'use', 'tight', 'ear', 'headphon', 'comfort', 'block', 'extern', 'nois', 'like', 'ac', 'fan', 'rain', 'etc', 'block', 'mean', '100', '80', '90', 'play', 'music', 'hear', 'anyth', 'outsid', 'world', 'said', 'ear', 'headphon', 'slight', 'pain', 'tight', 'ear', 'headphon', 'replac', 'built', 'nois', 'cancel', 'point', 'peopl', 'never', 'experienc', 'nois', 'cancel', 'headphon', 'life', 'nois', 'cancel', 'anoth', 'level', 'believ', 'actual', 'get', 'chanc', 'use', 'youtub', 'review', 'give', 'real', 'experi', 'nois', 'cancel', 'headphon', 'use', 'watch', 'youtub', 'video', 'tutori', 'write', 'code', 'brainstorm', 'travel', 'go', 'bed', 'hear', 'song', 'sleep', 'need', 'disconnect', 'annoy', 'world', 'around', 'batteri', 'life', 'realli', 'good', 'usb', 'c', 'mean', 'one', 'less', 'cabl', 'fast', 'charg', 'good', 'touch', 'control', 'awesom', 'put', 'right', 'hand', 'right', 'ear', 'cup', 'come', 'back', 'world', 'huge', 'plus', 'mom', 'dad', 'call', 'need', 'put', 'hand', 'right', 'ear', 'cup', 'overal', 'nc', 'headphon', 'improv', 'life', 'focus', 'work', 'less', 'distract', 'extern', 'nois', '100', '99', 'time', '100', 'hate', 'travel', 'sound', 'nois', 'influenc', 'thought', 'actual', 'wast', 'time', 'travel', 'yes', 'good', 'ear', 'earphon', 'help', 'anoth', 'level', 'actual', 'stuff', 'world', 'use', 'nois', 'cancel', 'headphon', 'valu', 'yes', '30k', 'throw', 'away', 'hurt', 'life', 'way', 'need', 'save', 'money', 'next', '12', 'month', 'get', 'sound', 'qualiti', 'base', 'look', 'nice', 'thing', 'soni', 'eq', 'adapt', 'mean', 'anyon', 'chang', 'sound', 'aspect', 'accord', 'need', 'applic', 'box', 'perfect', 'tast', 'someon', 'like', 'less', 'base', 'chang', 'eq', 'product', 'perfect', 'model', 'improv', 'devic', 'connect', 'time', 'minimum', '2', 'devic', 'requir', 'day', 'eg', 'laptop', 'smartphon', 'user', 'replac', 'ear', 'cup', 'cushion', 'call', 'qualiti', 'headphon', 'array', 'microphon', 'call', 'someon', 'hear', 'background', 'nois', 'use', 'voip', 'call', 'usabl', 'built', 'microphon', 'phone', 'much', 'better', 'job', 'improv', 'nc', 'yes', 'alway', 'room', 'improv', 'realli', 'know', 'write', 'con', 'updat', 'use', 'week', 'two', 'bye']\n"
     ]
    }
   ],
   "source": [
    "for doc in doc_set:\n",
    "    tokens = tokenizer.tokenize(doc.lower())\n",
    "    stopped_tokens = [token for token in tokens if not token in nltk_stpwd]\n",
    "    stemmed_tokens = [sb_stemmer.stem(token) for token in stopped_tokens]\n",
    "    texts.append(stemmed_tokens)\n",
    "    \n",
    "print(texts[1])"
   ]
  },
  {
   "cell_type": "markdown",
   "metadata": {},
   "source": [
    "# Create a dictionary using corpora"
   ]
  },
  {
   "cell_type": "code",
   "execution_count": 40,
   "metadata": {},
   "outputs": [
    {
     "name": "stdout",
     "output_type": "stream",
     "text": [
      "Dictionary(7116 unique tokens: ['000', '1', '10', '100', '1000xm2']...)\n"
     ]
    }
   ],
   "source": [
    "texts_dict = corpora.Dictionary(texts)\n",
    "texts_dict.save('elec_review.dict') \n",
    "print(texts_dict)"
   ]
  },
  {
   "cell_type": "code",
   "execution_count": 41,
   "metadata": {},
   "outputs": [
    {
     "name": "stdout",
     "output_type": "stream",
     "text": [
      "IDs 1 through 10: [('000', 0), ('1', 1), ('10', 2), ('100', 3), ('1000xm2', 4), ('1000xm3', 5), ('12th', 6), ('14th', 7), ('15th', 8), ('16th', 9)]\n"
     ]
    }
   ],
   "source": [
    "import operator\n",
    "print(\"IDs 1 through 10: {}\".format(sorted(texts_dict.token2id.items(), key=operator.itemgetter(1), reverse = False)[:10]))"
   ]
  },
  {
   "cell_type": "code",
   "execution_count": 43,
   "metadata": {},
   "outputs": [
    {
     "name": "stdout",
     "output_type": "stream",
     "text": [
      "False    10328\n",
      "True     94   \n",
      "Name: 0, dtype: int64\n",
      "False    9814\n",
      "True     608 \n",
      "Name: 0, dtype: int64\n"
     ]
    }
   ],
   "source": [
    "print(df['0'].str.contains(\"complaint\").value_counts()) \n",
    "print(df['0'].str.contains(\"lot\").value_counts())"
   ]
  },
  {
   "cell_type": "code",
   "execution_count": 44,
   "metadata": {},
   "outputs": [
    {
     "name": "stdout",
     "output_type": "stream",
     "text": [
      "Dictionary(1277 unique tokens: ['000', '1', '10', '100', '1000xm2']...)\n",
      "top terms:\n",
      "[('000', 0), ('1', 1), ('10', 2), ('100', 3), ('1000xm2', 4), ('1000xm3', 5), ('18', 6), ('2', 7), ('2018', 8), ('2019', 9)]\n"
     ]
    }
   ],
   "source": [
    "texts_dict.filter_extremes(no_below=30, no_above=0.15) # inlace filter\n",
    "print(texts_dict)\n",
    "print(\"top terms:\")\n",
    "print(sorted(texts_dict.token2id.items(), key=operator.itemgetter(1), reverse = False)[:10])"
   ]
  },
  {
   "cell_type": "markdown",
   "metadata": {},
   "source": [
    "# Creating Bag of Words"
   ]
  },
  {
   "cell_type": "code",
   "execution_count": 45,
   "metadata": {},
   "outputs": [
    {
     "data": {
      "text/plain": [
       "10422"
      ]
     },
     "execution_count": 45,
     "metadata": {},
     "output_type": "execute_result"
    }
   ],
   "source": [
    "corpus = [texts_dict.doc2bow(text) for text in texts]\n",
    "len(corpus)"
   ]
  },
  {
   "cell_type": "code",
   "execution_count": 46,
   "metadata": {},
   "outputs": [
    {
     "name": "stdout",
     "output_type": "stream",
     "text": [
      "Wall time: 707 ms\n"
     ]
    }
   ],
   "source": [
    "%%time \n",
    "gensim.corpora.MmCorpus.serialize('oneplusreviews.mm', corpus)"
   ]
  },
  {
   "cell_type": "markdown",
   "metadata": {},
   "source": [
    "# Training an LDA model"
   ]
  },
  {
   "cell_type": "code",
   "execution_count": 47,
   "metadata": {},
   "outputs": [
    {
     "data": {
      "text/plain": [
       "[(0, '0.018*\"5\" + 0.018*\"connect\" + 0.017*\"2\" + 0.017*\"charg\" + 0.016*\"call\"'),\n",
       " (1,\n",
       "  '0.012*\"app\" + 0.011*\"hour\" + 0.010*\"time\" + 0.010*\"would\" + 0.009*\"listen\"'),\n",
       " (2,\n",
       "  '0.011*\"hear\" + 0.010*\"audio\" + 0.010*\"clear\" + 0.009*\"amaz\" + 0.008*\"10\"'),\n",
       " (3,\n",
       "  '0.020*\"amazon\" + 0.015*\"buy\" + 0.014*\"month\" + 0.013*\"day\" + 0.013*\"return\"'),\n",
       " (4,\n",
       "  '0.030*\"earphon\" + 0.016*\"also\" + 0.014*\"awesom\" + 0.013*\"comfort\" + 0.012*\"high\"')]"
      ]
     },
     "execution_count": 47,
     "metadata": {},
     "output_type": "execute_result"
    },
    {
     "name": "stdout",
     "output_type": "stream",
     "text": [
      "['one', 'plus', 'mobil']\n",
      "[(298, 1), (778, 1)]\n"
     ]
    },
    {
     "data": {
      "text/plain": [
       "[(2, 0.02818896),\n",
       " (0, 0.04260422),\n",
       " (3, 0.052571602),\n",
       " (4, 0.09745398),\n",
       " (1, 0.77918124)]"
      ]
     },
     "execution_count": 47,
     "metadata": {},
     "output_type": "execute_result"
    },
    {
     "data": {
      "text/plain": [
       "'0.011*\"hear\" + 0.010*\"audio\" + 0.010*\"clear\" + 0.009*\"amaz\" + 0.008*\"10\" + 0.008*\"m50x\" + 0.008*\"bose\" + 0.008*\"wire\" + 0.007*\"review\" + 0.007*\"headset\"'"
      ]
     },
     "execution_count": 47,
     "metadata": {},
     "output_type": "execute_result"
    },
    {
     "data": {
      "text/plain": [
       "'0.012*\"app\" + 0.011*\"hour\" + 0.010*\"time\" + 0.010*\"would\" + 0.009*\"listen\" + 0.009*\"volum\" + 0.009*\"much\" + 0.008*\"featur\" + 0.008*\"connect\" + 0.008*\"control\"'"
      ]
     },
     "execution_count": 47,
     "metadata": {},
     "output_type": "execute_result"
    }
   ],
   "source": [
    "lda_model = gensim.models.LdaModel(corpus,alpha='auto', num_topics=5,id2word=texts_dict, passes=20)#Choosing the number of topics based on various categories of electronics on Amazon\n",
    "lda_model.show_topics(num_topics=5,num_words=5)\n",
    "raw_query = 'one plus mobiles'\n",
    "query_words = raw_query.split()\n",
    "query = []\n",
    "for word in query_words:\n",
    "    # ad-hoc reuse steps from above\n",
    "    q_tokens = tokenizer.tokenize(word.lower())\n",
    "    q_stopped_tokens = [word for word in q_tokens if not word in nltk_stpwd]\n",
    "    q_stemmed_tokens = [sb_stemmer.stem(word) for word in q_stopped_tokens]\n",
    "    query.append(q_stemmed_tokens[0])\n",
    "    \n",
    "print(query)# Words in query will be converted to ids and frequencies  \n",
    "id2word = gensim.corpora.Dictionary()\n",
    "_ = id2word.merge_with(texts_dict) # garbage# Convert this document into (word, frequency) pairs\n",
    "query = id2word.doc2bow(query)\n",
    "print(query)#Create a sorted list\n",
    "sorted_list = list(sorted(lda_model[query], key=lambda x: x[1]))\n",
    "sorted_list#Assessing least related topics\n",
    "lda_model.print_topic(sorted_list[0][0]) #least related#Assessing most related topics\n",
    "lda_model.print_topic(sorted_list[-1][0])#most related"
   ]
  },
  {
   "cell_type": "markdown",
   "metadata": {},
   "source": [
    "# Above are the top 5 words associated with 1 topic. The float next to each word is the weight showing how much the given word influences this specific topic. We can interpret that here the topic might be close to sony headphones category"
   ]
  },
  {
   "cell_type": "code",
   "execution_count": null,
   "metadata": {},
   "outputs": [],
   "source": []
  }
 ],
 "metadata": {
  "kernelspec": {
   "display_name": "Python 3",
   "language": "python",
   "name": "python3"
  },
  "language_info": {
   "codemirror_mode": {
    "name": "ipython",
    "version": 3
   },
   "file_extension": ".py",
   "mimetype": "text/x-python",
   "name": "python",
   "nbconvert_exporter": "python",
   "pygments_lexer": "ipython3",
   "version": "3.7.3"
  }
 },
 "nbformat": 4,
 "nbformat_minor": 2
}
