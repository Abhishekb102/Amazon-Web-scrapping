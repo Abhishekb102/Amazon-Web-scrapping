{
 "cells": [
  {
   "cell_type": "code",
   "execution_count": 13,
   "metadata": {},
   "outputs": [],
   "source": [
    "import pandas as pd"
   ]
  },
  {
   "cell_type": "code",
   "execution_count": 14,
   "metadata": {},
   "outputs": [],
   "source": [
    "import requests\n",
    "from bs4 import BeautifulSoup"
   ]
  },
  {
   "cell_type": "code",
   "execution_count": 15,
   "metadata": {},
   "outputs": [],
   "source": [
    "base_url=\"https://www.amazon.in/s?k=\""
   ]
  },
  {
   "cell_type": "code",
   "execution_count": 16,
   "metadata": {},
   "outputs": [],
   "source": [
    "search_query=\"sony+headphones\""
   ]
  },
  {
   "cell_type": "code",
   "execution_count": 17,
   "metadata": {},
   "outputs": [
    {
     "name": "stdout",
     "output_type": "stream",
     "text": [
      "https://www.amazon.in/s?k=sony+headphones\n"
     ]
    }
   ],
   "source": [
    "url= base_url+search_query\n",
    "print(url)"
   ]
  },
  {
   "cell_type": "code",
   "execution_count": 18,
   "metadata": {},
   "outputs": [],
   "source": [
    "header={'User-Agent': 'Mozilla/5.0 (Windows NT 10.0; Win64; x64) AppleWebKit/537.36 (KHTML, like Gecko) Chrome/78.0.3904.108 Safari/537.36'}"
   ]
  },
  {
   "cell_type": "code",
   "execution_count": 19,
   "metadata": {},
   "outputs": [
    {
     "data": {
      "text/plain": [
       "200"
      ]
     },
     "execution_count": 19,
     "metadata": {},
     "output_type": "execute_result"
    }
   ],
   "source": [
    "search_response=requests.get(url,headers=header)\n",
    "search_response.status_code"
   ]
  },
  {
   "cell_type": "code",
   "execution_count": 20,
   "metadata": {},
   "outputs": [],
   "source": [
    "def Search(search_query):\n",
    "    url=\"https://www.amazon.in/s?k=\"+search_query\n",
    "    #print(url)\n",
    "    page=requests.get(url,headers=header)\n",
    "    if page.status_code==200:\n",
    "        return page\n",
    "    else:\n",
    "        return \"Error\""
   ]
  },
  {
   "cell_type": "code",
   "execution_count": 21,
   "metadata": {},
   "outputs": [],
   "source": [
    "def url_link(query):\n",
    "    url=\"https://www.amazon.in/dp/\"+query\n",
    "    page=requests.get(url,headers=header)\n",
    "    if page.status_code==200:\n",
    "        return page\n",
    "    else:\n",
    "        return \"Error\""
   ]
  },
  {
   "cell_type": "code",
   "execution_count": 22,
   "metadata": {},
   "outputs": [],
   "source": [
    "def content(query):\n",
    "    url=\"https://www.amazon.in/\"+query\n",
    "    page=requests.get(url,headers=header)\n",
    "    if page.status_code==200:\n",
    "        return page\n",
    "    else:\n",
    "        return \"Error\""
   ]
  },
  {
   "cell_type": "code",
   "execution_count": 23,
   "metadata": {},
   "outputs": [],
   "source": [
    "product_Name=[]\n",
    "Asin_no=[]\n",
    "for i in range(1,10):\n",
    "    response=Search(\"sony+headphones&page=\"+str(i))\n",
    "    soup=BeautifulSoup(response.content)\n",
    "    for i in soup.findAll('span',attrs={'class':'a-size-medium a-color-base a-text-normal'}):\n",
    "        product_Name.append(i.text)\n",
    "    for i in soup.findAll('div',attrs={'class':['sg-col-20-of-24 s-result-item sg-col-0-of-12 sg-col-28-of-32 sg-col-16-of-20 sg-col sg-col-32-of-36 sg-col-12-of-16 sg-col-24-of-28','sg-col-20-of-24 s-result-item sg-col-0-of-12 sg-col-28-of-32 sg-col-16-of-20 AdHolder sg-col sg-col-32-of-36 sg-col-12-of-16 sg-col-24-of-28']}):\n",
    "        Asin_no.append(i['data-asin'])"
   ]
  },
  {
   "cell_type": "code",
   "execution_count": 24,
   "metadata": {},
   "outputs": [],
   "source": [
    "Link=[]\n",
    "for i in range(len(Asin_no)):\n",
    "    if Asin_no[i]!='':\n",
    "        link_response=url_link(Asin_no[i])\n",
    "        soup=BeautifulSoup(link_response.content)\n",
    "        for i in soup.findAll('a',attrs={'data-hook':'see-all-reviews-link-foot'}):\n",
    "            Link.append(i['href'])"
   ]
  },
  {
   "cell_type": "code",
   "execution_count": 26,
   "metadata": {},
   "outputs": [],
   "source": [
    "reviews=[]\n",
    "for k in range(len(Link)):\n",
    "    for i in range(1,10):\n",
    "        cont_response=content(Link[k]+'&pageNumber='+str(i))\n",
    "        soup=BeautifulSoup(cont_response.content)\n",
    "        for j in soup.findAll(\"span\",attrs={'data-hook':'review-body'}):\n",
    "            reviews.append(j.text)"
   ]
  },
  {
   "cell_type": "code",
   "execution_count": 27,
   "metadata": {},
   "outputs": [],
   "source": [
    "df=pd.DataFrame(data=reviews)\n",
    "#df['review']=reviews"
   ]
  },
  {
   "cell_type": "code",
   "execution_count": 28,
   "metadata": {},
   "outputs": [
    {
     "data": {
      "text/html": [
       "<div>\n",
       "<style scoped>\n",
       "    .dataframe tbody tr th:only-of-type {\n",
       "        vertical-align: middle;\n",
       "    }\n",
       "\n",
       "    .dataframe tbody tr th {\n",
       "        vertical-align: top;\n",
       "    }\n",
       "\n",
       "    .dataframe thead th {\n",
       "        text-align: right;\n",
       "    }\n",
       "</style>\n",
       "<table border=\"1\" class=\"dataframe\">\n",
       "  <thead>\n",
       "    <tr style=\"text-align: right;\">\n",
       "      <th></th>\n",
       "      <th>0</th>\n",
       "    </tr>\n",
       "  </thead>\n",
       "  <tbody>\n",
       "    <tr>\n",
       "      <th>0</th>\n",
       "      <td>I first owned a Bose QC35, however, I felt Bos...</td>\n",
       "    </tr>\n",
       "    <tr>\n",
       "      <th>1</th>\n",
       "      <td>This is my FIRST Noise Cancellation Headphones...</td>\n",
       "    </tr>\n",
       "    <tr>\n",
       "      <th>2</th>\n",
       "      <td>Just received my 1000MX3 . Just as you would e...</td>\n",
       "    </tr>\n",
       "    <tr>\n",
       "      <th>3</th>\n",
       "      <td>These are my initial thoughtsThey definitely l...</td>\n",
       "    </tr>\n",
       "    <tr>\n",
       "      <th>4</th>\n",
       "      <td>Likes1. Great sound quality2. Amazing battery ...</td>\n",
       "    </tr>\n",
       "    <tr>\n",
       "      <th>5</th>\n",
       "      <td>These are much better than Bose QC35-II. In te...</td>\n",
       "    </tr>\n",
       "    <tr>\n",
       "      <th>6</th>\n",
       "      <td>I pre ordered this from Amazon on the 12th of ...</td>\n",
       "    </tr>\n",
       "    <tr>\n",
       "      <th>7</th>\n",
       "      <td>Reached before 12pm today on 19th. Awesome del...</td>\n",
       "    </tr>\n",
       "    <tr>\n",
       "      <th>8</th>\n",
       "      <td>In call voice quality is terrible. Also couldn...</td>\n",
       "    </tr>\n",
       "    <tr>\n",
       "      <th>9</th>\n",
       "      <td>Awesome pair of headphones. I tried Bose QC 35...</td>\n",
       "    </tr>\n",
       "    <tr>\n",
       "      <th>10</th>\n",
       "      <td>1. Noise cancellation is overhyped. Its good b...</td>\n",
       "    </tr>\n",
       "    <tr>\n",
       "      <th>11</th>\n",
       "      <td>Overall, no headphone is closer to these in th...</td>\n",
       "    </tr>\n",
       "    <tr>\n",
       "      <th>12</th>\n",
       "      <td>I have to mention the satisfaction rate for th...</td>\n",
       "    </tr>\n",
       "    <tr>\n",
       "      <th>13</th>\n",
       "      <td>Here's an honest review:I read a lot of praise...</td>\n",
       "    </tr>\n",
       "    <tr>\n",
       "      <th>14</th>\n",
       "      <td>It has a lot going for it. But there are many ...</td>\n",
       "    </tr>\n",
       "    <tr>\n",
       "      <th>15</th>\n",
       "      <td>I will keep it concise1. Active Noise Cancella...</td>\n",
       "    </tr>\n",
       "    <tr>\n",
       "      <th>16</th>\n",
       "      <td>It's good if you are using it just as headphon...</td>\n",
       "    </tr>\n",
       "    <tr>\n",
       "      <th>17</th>\n",
       "      <td>●● If you want to get quick overview of the de...</td>\n",
       "    </tr>\n",
       "    <tr>\n",
       "      <th>18</th>\n",
       "      <td>These are only good for noise cancellationi se...</td>\n",
       "    </tr>\n",
       "    <tr>\n",
       "      <th>19</th>\n",
       "      <td>using this from last 3 days.Pros:1&gt;Awesome Noi...</td>\n",
       "    </tr>\n",
       "  </tbody>\n",
       "</table>\n",
       "</div>"
      ],
      "text/plain": [
       "                                                    0\n",
       "0   I first owned a Bose QC35, however, I felt Bos...\n",
       "1   This is my FIRST Noise Cancellation Headphones...\n",
       "2   Just received my 1000MX3 . Just as you would e...\n",
       "3   These are my initial thoughtsThey definitely l...\n",
       "4   Likes1. Great sound quality2. Amazing battery ...\n",
       "5   These are much better than Bose QC35-II. In te...\n",
       "6   I pre ordered this from Amazon on the 12th of ...\n",
       "7   Reached before 12pm today on 19th. Awesome del...\n",
       "8   In call voice quality is terrible. Also couldn...\n",
       "9   Awesome pair of headphones. I tried Bose QC 35...\n",
       "10  1. Noise cancellation is overhyped. Its good b...\n",
       "11  Overall, no headphone is closer to these in th...\n",
       "12  I have to mention the satisfaction rate for th...\n",
       "13  Here's an honest review:I read a lot of praise...\n",
       "14  It has a lot going for it. But there are many ...\n",
       "15  I will keep it concise1. Active Noise Cancella...\n",
       "16  It's good if you are using it just as headphon...\n",
       "17  ●● If you want to get quick overview of the de...\n",
       "18  These are only good for noise cancellationi se...\n",
       "19  using this from last 3 days.Pros:1>Awesome Noi..."
      ]
     },
     "execution_count": 28,
     "metadata": {},
     "output_type": "execute_result"
    }
   ],
   "source": [
    "df.head(20)"
   ]
  },
  {
   "cell_type": "code",
   "execution_count": 29,
   "metadata": {},
   "outputs": [
    {
     "data": {
      "text/plain": [
       "10422"
      ]
     },
     "execution_count": 29,
     "metadata": {},
     "output_type": "execute_result"
    }
   ],
   "source": [
    "len(reviews)"
   ]
  },
  {
   "cell_type": "code",
   "execution_count": null,
   "metadata": {},
   "outputs": [],
   "source": []
  }
 ],
 "metadata": {
  "kernelspec": {
   "display_name": "Python 3",
   "language": "python",
   "name": "python3"
  },
  "language_info": {
   "codemirror_mode": {
    "name": "ipython",
    "version": 3
   },
   "file_extension": ".py",
   "mimetype": "text/x-python",
   "name": "python",
   "nbconvert_exporter": "python",
   "pygments_lexer": "ipython3",
   "version": "3.7.3"
  }
 },
 "nbformat": 4,
 "nbformat_minor": 2
}
